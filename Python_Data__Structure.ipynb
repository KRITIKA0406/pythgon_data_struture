{
  "nbformat": 4,
  "nbformat_minor": 0,
  "metadata": {
    "colab": {
      "provenance": []
    },
    "kernelspec": {
      "name": "python3",
      "display_name": "Python 3"
    },
    "language_info": {
      "name": "python"
    }
  },
  "cells": [
    {
      "cell_type": "code",
      "execution_count": null,
      "metadata": {
        "id": "Aq0lPYE7AP_6"
      },
      "outputs": [],
      "source": []
    },
    {
      "cell_type": "markdown",
      "source": [
        "                     Assignment questions answer"
      ],
      "metadata": {
        "id": "fRs59ikbAY1d"
      }
    },
    {
      "cell_type": "markdown",
      "source": [
        "#1.What are data struture and why are they important?\n",
        "#ans-Data structure are specialized ways of organising storing ,and maneging data in a computer so that it can beused efficiently.\n",
        "\n",
        "Think of them like containers or blueprint-just as you might use different storage solution in rteal life(bookshelf) for books,a drwaer for clothes,atool box for tools,computers use different data strutures depending on the type of data and the operations you want to perform.\n",
        "\n",
        "*why they are important\n",
        "-efficient data acess- choosing the right data can make retrieving or updating data much faster.example-lookingup a contact in your phone  hash table is faster than checking every name in list.\n",
        "*memory optimization-a well chosen data structure uses memory effectively, avoiding waste.\n",
        "\n",
        "*better algorithm performance -many algorithm are designed to work with specific data structure e.g-graphs for shortest path algorithms.\n",
        "\n",
        "*scalibility-when the data grows into millions or billions of elements ,the right data struture keeps the system fast and manageable.\n",
        "\n",
        "\n",
        "-"
      ],
      "metadata": {
        "id": "UmPtF4A8AhTS"
      }
    },
    {
      "cell_type": "markdown",
      "source": [
        "#2.Explain the difference between mutable and immutable data types with the examples.\n",
        "#ans-Mutable-can be change/modified after creation.\n",
        "Immutable-cannot be changed after creation;if you try ,python creates a new object.\n",
        "\n",
        "*think of it like-mutable-whiteboard (you can erase and write again).\n",
        "Immutable-permanent marker on paper (to change it, you need a new sheet)\n",
        "\n",
        "*data type mutable?\n",
        "list yes dict yes set yes tuple yes no str no int float,bool no."
      ],
      "metadata": {
        "id": "5_aNyl8K9kEQ"
      }
    },
    {
      "cell_type": "markdown",
      "source": [
        "#3.what are the main difference between lists and tuple in python?\n",
        "#ans-Mutable list-(mutable can be changed after creation)\n",
        "tuples-immutable(cannot be changed after creation)\n",
        "\n",
        "*List can change\n",
        "lst = [1,2,3]lst[0] = 99 prints(lst) # [99,2,3]\n",
        "\n",
        "*Tuple cannot change\n",
        "tpl = (1,2,3)\n",
        "\n",
        "tpl[0] = 99 # error\n",
        "2.syntax list-defined with square brackest[]\n",
        "tuple -defined with parentheses()\n",
        "my_list = [1,2,3]my_tuple = (1,2,3)\n",
        "\n",
        "3.performance tuple-faster than lists(because they are immutable and use less memory)\n",
        "\n",
        "list-sligthly slower(extra overhead for supporting changes)\n",
        "\n",
        "*4. method available list- many built in method like append(),remove(),sort()\n",
        "tuple-limited method mainly count()and index()."
      ],
      "metadata": {
        "id": "v87tlNve-9Zz"
      }
    },
    {
      "cell_type": "markdown",
      "source": [
        "#4.describe how dictionaries store data.\n",
        "#ans-A dictionary in python is an unordered collection of key-value pairs.you lookup a value by its key-and this lookup is extremely fast because python uses a hash table internally.\n",
        "\n",
        "e.g-my_dict = {\"name\": \"vibhu\",\"age\": 20}\n",
        "*Internally\n",
        "\"name\"-hashed-goes to slot x -stores('name\",\"vibhu\")\n",
        "\"age\"-hashed-goes to slot y -stores(\"age\",20)\n"
      ],
      "metadata": {
        "id": "Vl6qd49FA8aV"
      }
    },
    {
      "cell_type": "markdown",
      "source": [
        "# 5.Why might you use a set insted of a list in python ?\n",
        "#ans-You might choose a set instead a list in python when you need fast lookups,uniquences,and no concern  for order.\n",
        "\n",
        "1,Uniqueness of  elements\n",
        "set-automatically removes duplicates\n",
        "list-can have duplicates ; you'd need to manually check for remove the.\n",
        "\n",
        "*using a set\n",
        "my_set = {1,2,3} print(my_set) # {1,2,3}\n",
        "\n",
        "*using a list\n",
        "my_list = [1,2,2,3] print(my_list) # [1,2,2,3]\n",
        "\n",
        "2.fast memmbership testing\n",
        "set-average0(1) time for checking if an item exists (uses a hash table internally)\n",
        "list-avarage 0(n)time,because it may scan through every element\n",
        "nums ={1,2,3,4}print(3 in nums) # very fast\n",
        "nums_list = [1,2,3,4]print(3 in nums_list) # slower for large data\n",
        "\n",
        "3.When to prefer a set over a list\n",
        "you need only unique element\n",
        "you need fast membership test(e.g-checking if something is already seen)\n",
        "you need set operation like union or intersection.\n",
        "you care about order (sets are unordered :use a list if order matters)\n",
        "you need indexing(sets don't support my_set[0])."
      ],
      "metadata": {
        "id": "p4SUvs7aCMCh"
      }
    },
    {
      "cell_type": "markdown",
      "source": [
        "#6.What is a string in python ,and how is it different from a lists?\n",
        "#ans-A list in python is a sequence of characters enclosed in a single quotes'....',double quotes\"...\" or triple quotes\"...\"/\"\"\"...\"\"\".\n",
        "e.g-\n",
        "name = \"vibhu\"\n",
        "\n",
        "*key difference between a string and a list\n",
        "feature string list data type sequence of characters sequence of any data types (numbers,string,objects,etc).\n",
        "mutablity immutaability (cannot be  change in placed)mutable (elements can be changed)element type always characters can hold mixed data types  syntax quotes(' '/\" \")square bracket[]methods string-specific methods like upper(),lower(),replace() list-specific method like append(),remove(),sort()interation iterates over characters iterates over elements (any types) indexing/slicing yes yes\n",
        "e.g-string(immutable)\n",
        "s = \"hello\"\n",
        "s[0] = \"H\" # error : strings are immutable\n",
        "s = \"H' +S[1:] # CREATES A NEW STRING PRINTS(S) # \"HELLO\"\n",
        "\n",
        "LIST(MUTABLE)\n",
        "lst = ['h','e','l','l','o']lst[0] ='H' # can modify in place print(lst) # ['H','e','l','l','o']"
      ],
      "metadata": {
        "id": "1lCvVTaUFN1k"
      }
    },
    {
      "cell_type": "markdown",
      "source": [
        "#7.How do tuple ensure data integrity in python\n",
        "#ans-tuple ensure data integrity in python mainly because they  are immutable-once created ,their contents cannot be changed added to or removed.\n",
        "\n",
        "*immutability = protection\n",
        "A tuple immutability means that after its created the values inside stay the same forever (unless they contain a mutable object inside ,which can change separetely).\n",
        "\n",
        "This prevents accidental modifications ,which helps preserve the original data.\n",
        "e.g- coodinates= (28.6139,77.2090) # delhi coordinates\n",
        "\n",
        "*Attempt to change a value\n",
        "coodinates[0] 29.0 # error : tuple object does not support item assignment\n",
        "here ,you can trust that coodinates won't suddenly be altered by another part of your code.\n",
        "\n",
        "2.Safe to use a dictionary keys\n",
        "because tuples are immutables and hashable (if all elements are hashable ),they are can be used as dictionary keys or in  sets- ensuring that the keys identify won't change unexpectedly .location_data = {(28.6139,77.2090):\"Delhi\",(19.0760,72.8777): \"Mumbai\"}if these were lists instead ,they keys could change- breaking the dictionary .\n",
        "\n",
        "3.readability and intent\n",
        "whey you choose a tuple instead of a list you signal to anyone reading a code .\n",
        "\"this data is fixed -treat it as constant.\"\n",
        "e.g-RGB_RED = (255,0,0) # CLEAR ,FIXED DEFINITION\n",
        "\n",
        "4.Prevents bugs in multi module programs\n",
        "in large program,data may be shared between function or modules .if you use a list,one function might accidentally after it, causing unexpected behaviour elsewhere. with a tuple ,you guarantee that shared data remains unchanged."
      ],
      "metadata": {
        "id": "HUwa91gyItD_"
      }
    },
    {
      "cell_type": "markdown",
      "source": [
        "#8.What is a hash table ,and how does it related to dictionaries in the python?\n",
        "#ans-A HASH TABLE IS DATA STRUTURE THAT STORES DATA IN KEY VALUE PAIRS AND USES A HASH FUNCTION TO DETERMINE WHERE EACH KEY VALUE PAIR SHOULD BE PLACED MEMORY.\n",
        "\n",
        "IN PYTHON,DICTIONARIES ARE BUILT ON TOP OF HASH TABLE -THE HASH TABLE IS THE ENGINE THAT MAKES THEM SO FAST.\n",
        "\n",
        "1.HOW A HASH TABLE WORK\n",
        "HASH THE KEY\n",
        "THE KEY IS PASSES INTO A HASH VALUE (AN INTEGER).\n",
        "MAPPING TO A SLOT\n",
        "THE HASH VALUE IS MAPPED TO AN INDEX (SLOT) IN AN INTERNAL ARRAY (VIA MODULUS OPERATION ).\n",
        "STORING THE PAIR\n",
        "THE DICTIONARY STORES BOTH THE KEY AND ITS VALUE IN THAT SLOT.\n",
        "HANDLING COLLOISION\n",
        "SOMETIMES TWO KEYS MAP TO THE SAME SLOT.\n",
        "PYTHON RESOLVE THIS USING OPEN ADRESSING :IT FIND THE NEXT AVAILABLE SLOT.\n",
        "\n",
        "2.HOW THIS RELATE TO DICTIONARIES\n",
        "FAST LOOKUPS:\n",
        "BECAUSE THE HASH TELLS PYTHON EXACTLY WHERE TO FIND A KEY ,SEARCHING IS AVERAGE0()TIME.\n",
        "\n",
        "FAST INSERTION & DELETION:\n",
        "ADDING OR REMOVING ITEMS ALSO USES THE HASH FUNCTIONS,SO THEY ARE QUICK\n",
        "\n",
        "KEY RULES\n",
        "DICTIONARY KEY MUST BE HASHABLE IMMUTABLE TYPES LIKE STRINGS,NUMBERS,TUPLES WITHOUT MUTUABLE ELEMENTS).\n",
        "IF A KEY CHANGE AFTER BEING STORED ,THE HASH WOULD BE WRONG -BRAKING THE LOOKUP.\n",
        "E.G-my_dict = {\"name\": \"vibhu\", \"age\": 20}\n",
        "lookup process for \"age\".\n",
        "1.hash(\"age\")-some number\n",
        "2.map number to slot\n",
        "3.fetch value 20\n",
        "\n",
        "\n"
      ],
      "metadata": {
        "id": "Xr_y09RwNAj7"
      }
    },
    {
      "cell_type": "markdown",
      "source": [
        "#9.Can list contain different data type in python.\n",
        "#ans-yes-in python list contain different data types in same list.\n",
        "\n",
        "Thats because python list are dynamic and heterogeneous-each elements is just refrence to an object and, those object can be of any type.\n",
        "e.g-\n",
        "mixed_list = [1,\"hello\",3.14,true,[1,2],{\"a\":1}] print(mixed_list)\n",
        "\n",
        "output:[1,'hello',3.14,true,[1,2],{'a':1}]\n",
        "\n",
        "here we have\n",
        "1-integer\n",
        "\"hello\"-string\n",
        "3.14-float\n",
        "true-boolean\n",
        "[1,2]-another list\n",
        "{\"a\",1}-dictionary\n",
        "\n",
        "why this works\n",
        "internallu,a list just stores refrence (pointers) to objects in memory ,not the actual data itself.\n",
        "since python is dynamic typed ,it doesn't require all list elements to share the same types."
      ],
      "metadata": {
        "id": "jJ6O0UgOQvO4"
      }
    },
    {
      "cell_type": "markdown",
      "source": [
        "#10.Explain why strings are immutable in python.\n",
        "#ans-Strings are immutable in python beacuse once a string object is created ,its content cannot be changed .if you try to modified it ,python actually created a new string object instead of altering the original.\n",
        "\n",
        "1.why python made strings immutable\n",
        "(a)efficiency with memory and performance\n",
        "python store strings in memory in a way that allow them to be reused (interned).\n",
        "\n",
        "if strings werw immutable changing one could unintentionally changed another variable pointer to the same string in memory.\n",
        "e.g-a= \"hello\" b=a a=a+\"(world)\" print(b) # still \"hello\" here, b stays unchanged because a+\"world\" creates a new strings.\n",
        "\n",
        "(b) hashability for dictionary keys and sets\n",
        "dictionary keys and sets elements must be hashable\n",
        " hash value are based on the strings content- if content could change,the hash would change too, breaking dictionary lookups.\n",
        " e.g-my_dict = {\"name\": \"vibhu\"}\n",
        "\n",
        " work fine beacause \"name\" will never change\n",
        "\n",
        " (c) safety and reliability\n",
        " immutability prevents accidental changes.\n",
        " this is especially important when passing strings between functions- you can be sure the value won't be altered somewhere else."
      ],
      "metadata": {
        "id": "Ok4LubtvTNPl"
      }
    },
    {
      "cell_type": "markdown",
      "source": [
        "#11.What advantages dictionaries offer over lists for certain tasks?\n",
        "#ans-Dictionaries can be a big advantage over lists when your task involves lookingup your values by a key rather than by position.\n",
        "\n",
        "1.fast lookups\n",
        "Dictionary: Uses a hashtable- average o(1)time to find a value by key.\n",
        "List:Need to search through elements-0(n) time if you dont know the index.\n",
        "e.g.-\n",
        "\n",
        "using a lists of tuple\n",
        "contacts =[{\"Alice\",\"1234\"),(\"Bob\",\"5678\")]\n",
        "\n",
        "using a dictionary\n",
        "phonebook =\n"
      ],
      "metadata": {
        "id": "j0coxtCNB0_8"
      }
    },
    {
      "cell_type": "markdown",
      "source": [
        "#11.What advantages dictionaries offer over lists for certain tasks?\n",
        "#ans-Dictionaries can be a big advantage over lists when your task involves lookingup your values by a key rather than by position.\n",
        "\n",
        "1.fast lookups\n",
        "Dictionary: Uses a hashtable- average o(1)time to find a value by key.\n",
        "List:Need to search through elements-0(n) time if you dont know the index.\n",
        "e.g.-\n",
        "\n",
        "using a lists of tuple\n",
        "contacts =[{\"Alice\",\"1234\"),(\"Bob\",\"5678\")]\n",
        "\n",
        "using a dictionary\n",
        "phonebook ={\"Alice\":\"1234\",\"Bob\":\"5678\"}print(phonbook[\"Bob\"])# instant lookup\n",
        "\n",
        "have to loop through to find Bob-slower for large data\n",
        "\n",
        "2.clearer,more meaningful acess\n",
        "key in a dictionary make code more self explanatory\n",
        "lists rely on numeric indexes ,which can be less relatable.\n",
        "examples:students = {\"name\":\"Vibhu\", \"age\":20}\n",
        "\n",
        "easier to understand than:\n",
        "student_list = [\"vibhu\",20] # which index is age?\n",
        "\n",
        "3.no need to remember index position-in list,you can must know the position of data\n",
        "In a dictionary,you njust use the key you remember.\n",
        "\n",
        "4.Flexible keys\n",
        "Dictionaries let you use strings,numbers, or tuples(hashable types)as keys.\n",
        "Lista can only be indexed with numbers or slices.\n",
        "\n",
        "5.Avoid duplicate keys\n",
        "In a dictionary,keys are unique-prevents accidental duplicates entries for the same identifier\n",
        "list can have multiple identical elements without warning.\n"
      ],
      "metadata": {
        "id": "gosvpeIjE8ZR"
      }
    },
    {
      "cell_type": "markdown",
      "source": [
        "#12.Describe a scenario where using a tuple would be preferable over a list.\n",
        "#ans-A tuple is preferable over a list when you nee dfixed ,unchangeable data-some thing that not should beaccidentally bmodified during the program'sexecution.\n",
        "\n",
        "*Example scenario:Geographic coodinates\n",
        "Imaging you are building a travel app,and you store the latitude and longitude of cities.\n",
        "\n",
        "Using a tuple to store coordinates\n",
        "delhi_coodinates = (28.6139,77.2090) # immutable\n",
        "\n",
        "*Why a tuple here?\n",
        "data integrity-coodinates should never change once set for a location.\n",
        "\n",
        "A tuple's immutability ensures no part of the code can be alter the values by mistake.\n",
        "\n",
        "*Hashable-tuples can be used as dictionary keys(lists cannot),so you can easily map coodinates to city names.\n",
        "locations = {(28.6139,77.2090):\"Delhi\",(19.0760,72.8777):\"Mumbai\"}\n",
        "\n",
        "Performance-tuples are slightly faster and use less memory than lists,which matters if you are storing thousand of coodinates .\n",
        "\n"
      ],
      "metadata": {
        "id": "j-fBW82SHcup"
      }
    },
    {
      "cell_type": "markdown",
      "source": [
        "#13.How do sets handle duplicates values in python .\n",
        "#ans-in python sets automatically removes duplicate values because they are designed to store only unique elements.\n",
        "1.how it works internally\n",
        "A set is implemented using hash table (like dictionary,but only keys are stored-no values).\n",
        "whwn you add an element:\n",
        "python computes its hasg value\n",
        "check if an internal element with the same hash already exists in the set.\n",
        "If it exist-ignored(no duplicate added).\n",
        "if it doesn't exist-stored in set.\n",
        "\n",
        "2.example\n",
        "my_set = {1,2,2,3,3,3}print(my_set) # {1,2,3}even through 2 and 3were added multiple times,the sets keeps only one of each.\n",
        "\n",
        "3.adding duplicate later\n",
        "my_set = {1,2,3}my_set.add(2)# duplicate print(my_set)#{1,2,3} the add() method silently ignores duplicate.\n",
        "\n",
        "4.why this is useful\n",
        "ensures data uniqueness without ectra checks.\n",
        "make memembership testing fast (0()time).\n",
        "simplifies operations like removing duplicates from a list nums=[1,2,2,3,4,4]unique_nums = set(nums)print(unique_nums) # {1,2,3,4}."
      ],
      "metadata": {
        "id": "_1_v8u9DKE8w"
      }
    },
    {
      "cell_type": "markdown",
      "source": [
        "#14.How does the \"in\" keyword work differently for list and dictionaries .\n",
        "#ans-The in keywords works differently for list and dictionaries because it checks different things in eaach case.\n",
        "\n",
        "1.for lists\n",
        "in checks if a value exists anywhere in the list.\n",
        "this requires scanning through the list from start to end(linear search,0()time).\n",
        "\n",
        "examples-\n",
        "fruits = [\"aple\",\"banana\",\"cherry\"]print(\"banana \" in fruits)# true (value exist)print(2 in fruits)#false(value not found)process.\n",
        "start at index-compare element with the target.\n",
        "move to next index untill found  lists ends.\n",
        "\n",
        "2.for dictionaries\n",
        "in checks only the keys-not the value\n",
        "since dictionaries use a hash table ,this check is 0()on average\n",
        "\n",
        "example\n",
        "persons = {\"name\":\"vibhu\",\"age\":20}print(\"name\" in person)#true(key exist)print(\"vibhu\" in person)# false(values are ignored)print(\"vibhu\" in person vale())# true(checksvalue explicity)\n",
        "\n",
        "process\n",
        "1 hash the key\n",
        "2jump directly to the slot in the hash table to see if it exists\n"
      ],
      "metadata": {
        "id": "hOWXjfnnO_Um"
      }
    },
    {
      "cell_type": "markdown",
      "source": [
        "#15.Can you modify the element of a tuple?Explain why or why not?\n",
        "#ans-no-you cannot modify the element of a tuple durectly because tuple are immutable in python.once a tuple is created its struture and elements refrences cannot be changed.\n",
        "\n",
        "1What immutable mens for tuple\n",
        "you cannot change an element's vale,add a new elements,remove elements.e.g-\n",
        "t=(1,2,3)\n",
        "\n",
        "t[0] = 99#typeerroe:'tuple'objects does not support iten assignment.\n",
        "\n",
        "2.Why tuple are immutable\n",
        "data intergrity:protect fixed data from accident changes.\n",
        "hashability:tuple(with only immutable elements)can be used as dictionary keys and in sets.\n",
        "performance:slightly faster and smaller thin memory than lists.\n",
        "\n",
        "3.the one loophole\n",
        "if a tuple cintains mutable objects (like a list) you can modify the mutable objects inside -but you still can't change tuple's can struture.\n",
        "examples-\n",
        "\n",
        "t= (1,[2,3])t[1].append(4)this work print(t)#(1,[2,3,4,])here:\n",
        "the tuple still points to the same list objects\n",
        "the list itself mutable,so its contents can change."
      ],
      "metadata": {
        "id": "md4CiJZoRatO"
      }
    },
    {
      "cell_type": "markdown",
      "source": [
        "#16.What is nested dictionary,and give an elements of its use case.\n",
        "#ans-A nested dictionaryin python is a dictionary inside another dictionary -meaning each key in the outer dictionary can store another dictionary as its value.\n",
        "its way to store hierachial or strutured data.\n",
        "\n",
        "1.struture\n",
        "nested_dict = {\"outer_key1\":{\"inner_key1\":value1,\"inner_key2\":value2},\"outer_key2\":{\"inner_key3\":value3,\"inner_key4\":value4}}\n",
        "\n",
        "2.example use case\n",
        "storing student dat in school system students = {\"101\":{\"name\":\"vibhu\",\"age\":20,\"grades\":{\"math\":85,\"science\":90}},\"102\":{\"name\":\"ananya\",\"age\":21,\"grades\":{\"math\":92,\"science\":88}}}\n",
        "\n",
        "acessing data\n",
        "print(students[\"102\"][\"name\"])#vibhu print(students[\"102\"][\"grades\"][\"math\"])# 85\n",
        "\n",
        "why useful here\n",
        "groups related data together in a logical hierachy\n",
        "easy to store complex relationship(like a student having multiple subjects and grades).\n",
        "keeps data struture without needing multiple separete lists oe variables.\n"
      ],
      "metadata": {
        "id": "CXfuDNt5UdZR"
      }
    },
    {
      "cell_type": "markdown",
      "source": [
        "#17.Describe the time comlexicity of acessing element in a dictionary.\n",
        "#ans-Acessing element in a python dictionary is generally0()(constant time)on average,thank to its hash table implementation-but there are some important details.\n",
        "\n",
        "1.average case(0(1))\n",
        "when you do value =my_dict[key]python:\n",
        "runs hash (key)-gives an integer.\n",
        "maps the  hash to a slot in an internal array.\n",
        "checks if the key matches and returns the value.\n",
        "because this is direct jump to the slot (not sacnning the whole whole dict),its 0(1)time.\n",
        "\n",
        "2.worst case\n",
        "rare but happens it\n",
        "many keys cause hash collisions\n",
        "the dictionary has to check multiple slot(open addressing).\n",
        "or a hash attack is crafted intentionally.\n",
        "in this case ,lookup might degrade to 0(),where n is the number of item.\n",
        "\n",
        "3.why it so fast\n",
        "uses hashing rather than squential search\n",
        "doesn't depend on the size of the dictionary for average case lookups.\n",
        "this efficiency also applies to checking keys existence (key in dict)\n",
        "insertin(dict[key] = value)\n",
        "deletion(del dict[key])"
      ],
      "metadata": {
        "id": "jcCuIaqmXQfL"
      }
    },
    {
      "cell_type": "markdown",
      "source": [
        "#18.In what situation are list prefered over dictionaries.\n",
        "#ans-lists are prefered over dictionaries when,\n",
        "\n",
        "1.you care about order and position\n",
        "lists maintain element in a specific sequence and you can acess them by index.\n",
        "dictionaries (python3.7+)also preserve insertion order ,but they are still key value mapping ,not position based on sequence.\n",
        "example-\n",
        "fruits = [\"apple\",\"banana\",\"cherry']prints(fruits)[0]#\"apple\"\n",
        "\n",
        "2.you dont need a key value pairs\n",
        "if your data is just a collection of items without unique identifier a list is simpler and more memory efficient.\n",
        "\n",
        "3. you have duplicate value\n",
        "lists allows duplicates naturally, while dictionaries force unique keys numbers = [1,2,2,3]# allowed\n",
        "\n",
        "4.you need to sort or rearrange data easily\n",
        "list have rich built in method for sorting reversing,slicing,and rearranging elements.nums = [3,2,1]nums.sort()print(nums)#[1,2,3]\n",
        "\n",
        "5.the data sets is small or squential\n",
        "for small data sets list lookup are simple and fast enough -no need for the overhead of a hash table.\n",
        "great for order sequence like\n",
        "to do list\n",
        "steps in process\n",
        "playlist of songs."
      ],
      "metadata": {
        "id": "UG9jONk8bQui"
      }
    },
    {
      "cell_type": "markdown",
      "source": [
        "#19.Why dictionaries considered unordered and how does that affect data retrieval?\n",
        "#ans-Dictionaries are cosidered unordered because,conceptually they store data as key value pairs in a hash table ,where the position  of each apir in memory depens on the hash value of the key -not the order you insert them in.\n",
        "\n",
        "1.the original meaning of \"unordered\"\n",
        "in python version before 3.7dictionaries did not gurantee that item would be returned in the same order they were inserted.\n",
        "the internal storage (hash table) placed item based on the hash value so iteration order could seem random.\n",
        "\n",
        "2.python3.7+ change\n",
        "starting in python3.7+ and officially in 3.8 dictionaries preserve insertion order but this is considered an implementation detail not the primary design purpose.\n",
        "even now ordering is not used for lookup dictionarylookups are always based on key hashes ,not position.\n",
        "\n",
        "3.how it affect data retrieval\n",
        "\n",
        "lookup by key is unaffected dictionaries retrieve values in 0(1) time by hashing the key and jumping directly to slot.\n",
        "iteration order is predictable insertion order in modern python ,but shouldnt be relied upon if you care about portability to older version or other languages.\n",
        "if you need guranteed ordering as a core feature you should use collection order dict before python3.7 or sort keys explicity during retrieval\n",
        "\n",
        "example-\n",
        "in python 3.7+insertion order preserved\n",
        "data = {\"a\":1,\"b\":2,\"c':3}for k,v in data items():print(k,v)\n",
        "\n",
        "output:a 1,b 2,c 3 in insertion order\n",
        "retrieval by key is always fast:\n",
        "print(data[\"b\"] # 2\n"
      ],
      "metadata": {
        "id": "qWra1SW6duwU"
      }
    },
    {
      "cell_type": "markdown",
      "source": [
        "#20.Explain the difference between  a lists and a dictionary in term of data retrieval.\n",
        "#ans-The key of difference between a list and a dictionary in term of data retrieval is how you acess the data and how fast it is.\n",
        "\n",
        "1.retrieval method\n",
        "\n",
        "data struture how you retrieve  example list by position index my_list[0]-gets the first elements\n",
        "dictionary by key a unique identifier my_dict[\"name\"]-gets the vale for \"name\"\n",
        "\n",
        "2.speed (time complexicity)\n",
        "\n",
        "list-retrieval by index is 0(1)(verfast).but searching for a specific value without knowing its index takes)(n)(linear time)\n",
        "\n",
        "dictionary-retrieval by key is 0(1)on average beacuse its uses hashing direct lookup no scanning.\n",
        "\n",
        "3.example-\n",
        "list\n",
        "fruits = [\"apple\",\"banana\",\"cherry\"]print(fruits[1]) # banana (by index)\n",
        "if you want \"cherry\",but don't know its index must search\n",
        "\n",
        "dictionary\n",
        "prices = {\"apple\":100,\"banana\":40,\"cherry\":60}print(prices[\"cherry\"]) # 60(by key instant)\n",
        "\n",
        "4.when this matters\n",
        "use a list when:\n",
        "the position of the element is meaningful\n",
        "you want to store an ordered sequence\n",
        "use a dictionary when\n",
        "you need fast lookups by a label /idetifier\n",
        "each item naturally has a unique key."
      ],
      "metadata": {
        "id": "26PMDhi1ha7P"
      }
    },
    {
      "cell_type": "code",
      "source": [
        "#1.Write a code to create a string with your name and print it.\n",
        "#ans:-\n",
        "#Create a string with my name\n",
        "name = \"Vibhu\"\n",
        "\n",
        "#print the string\n",
        "print(name)"
      ],
      "metadata": {
        "colab": {
          "base_uri": "https://localhost:8080/"
        },
        "id": "nZORxpkeAryk",
        "outputId": "bc0bda1b-69e5-4ae6-dc14-ea699334e640"
      },
      "execution_count": null,
      "outputs": [
        {
          "output_type": "stream",
          "name": "stdout",
          "text": [
            "Vibhu\n"
          ]
        }
      ]
    },
    {
      "cell_type": "code",
      "source": [
        "#2.wrte a code to find the length of the string \"Hello world\"\n",
        "#ans:-\n",
        "# create the string\n",
        "text = \"Hello world\"\n",
        "\n",
        "# Find the length using len()\n",
        "length = len(text)\n",
        "# print the length\n",
        "print(length)"
      ],
      "metadata": {
        "colab": {
          "base_uri": "https://localhost:8080/"
        },
        "id": "1VMgKPocBSsj",
        "outputId": "22cb00cb-1b5a-40bd-ae57-97adfb55ed5d"
      },
      "execution_count": null,
      "outputs": [
        {
          "output_type": "stream",
          "name": "stdout",
          "text": [
            "11\n"
          ]
        }
      ]
    },
    {
      "cell_type": "code",
      "source": [
        "#3.write a code to slice the first 3 characters from the string \"Python Programming\"\n",
        "#ans- # create the string\n",
        "text = \"Python programming\"\n",
        "\n",
        "# Slice the first 3 characters\n",
        "first_three = text[:3]\n",
        "\n",
        "# print the result\n",
        "print(first_three)"
      ],
      "metadata": {
        "colab": {
          "base_uri": "https://localhost:8080/"
        },
        "id": "9_t8t1roB7AI",
        "outputId": "14f57dba-2878-4686-fa51-0bc56240f3b2"
      },
      "execution_count": null,
      "outputs": [
        {
          "output_type": "stream",
          "name": "stdout",
          "text": [
            "Pyt\n"
          ]
        }
      ]
    },
    {
      "cell_type": "code",
      "source": [
        "#4. Write a code to convert a string \"hello\" to upper case\n",
        "#ans:- # create the string\n",
        "text = \"hello\"\n",
        "\n",
        "# convert to uppercase\n",
        "upper_text = text.upper()\n",
        "\n",
        "# Print the result\n",
        "print(upper_text)"
      ],
      "metadata": {
        "colab": {
          "base_uri": "https://localhost:8080/"
        },
        "id": "PGLTfEOtCmU0",
        "outputId": "896c43d1-db86-40b0-bc1b-7f7fd237b183"
      },
      "execution_count": null,
      "outputs": [
        {
          "output_type": "stream",
          "name": "stdout",
          "text": [
            "HELLO\n"
          ]
        }
      ]
    },
    {
      "cell_type": "code",
      "source": [
        "#5.Write a code to replace a word \"apple\" with \"orange\" in the sstring \"I like apple\"\n",
        "#ans:-# create the string\n",
        "text = \"I like apple\"\n",
        "\n",
        "# Replace 'apple' with 'orange'\n",
        "new_text = text.replace(\"apple\",\"orange\")\n",
        "\n",
        "# print the result\n",
        "print(new_text)"
      ],
      "metadata": {
        "colab": {
          "base_uri": "https://localhost:8080/"
        },
        "id": "2lYMN2bDDY6g",
        "outputId": "0e3ebba5-a0fe-42f0-b4ea-454b9a90a805"
      },
      "execution_count": null,
      "outputs": [
        {
          "output_type": "stream",
          "name": "stdout",
          "text": [
            "I like orange\n"
          ]
        }
      ]
    },
    {
      "cell_type": "code",
      "source": [
        "#6.write a code to create a list with number 1 to 5 and print it.\n",
        "#ans:-# create the list\n",
        "numbers = [1,2,3,4,5]\n",
        "\n",
        "# print the list\n",
        "print(numbers)"
      ],
      "metadata": {
        "colab": {
          "base_uri": "https://localhost:8080/"
        },
        "id": "LVnjFZ-3ESAH",
        "outputId": "f94e52a3-ccc2-4864-ec65-a5d44136ebb4"
      },
      "execution_count": null,
      "outputs": [
        {
          "output_type": "stream",
          "name": "stdout",
          "text": [
            "[1, 2, 3, 4, 5]\n"
          ]
        }
      ]
    },
    {
      "cell_type": "code",
      "source": [
        "#7.Write a code to append the number 10 to list [1,2,3,4]\n",
        "#ans:-3 create the list\n",
        "numbers = [1,2,3,4]\n",
        "\n",
        "# Append 10 to the list\n",
        "numbers.append(10)\n",
        "\n",
        "# print the updated list\n",
        "print(numbers)"
      ],
      "metadata": {
        "colab": {
          "base_uri": "https://localhost:8080/"
        },
        "id": "FxUdmds9Fwsw",
        "outputId": "7764e9c5-f442-4517-98ab-9888c00ceb75"
      },
      "execution_count": null,
      "outputs": [
        {
          "output_type": "stream",
          "name": "stdout",
          "text": [
            "[1, 2, 3, 4, 10]\n"
          ]
        }
      ]
    },
    {
      "cell_type": "code",
      "source": [
        "#8.Write a code to remove the number 3 from the list [1,2,3,4,5]\n",
        "#ans:-# create the list\n",
        "numbers = [1,2,3,4,5]\n",
        "\n",
        "# remove the number 3\n",
        "numbers.remove(3)\n",
        "\n",
        "# print the updated list\n",
        "print(numbers)"
      ],
      "metadata": {
        "colab": {
          "base_uri": "https://localhost:8080/"
        },
        "id": "zzNzFsghGOfz",
        "outputId": "fc9a46c3-4a8c-4160-b7e9-641e467f185d"
      },
      "execution_count": null,
      "outputs": [
        {
          "output_type": "stream",
          "name": "stdout",
          "text": [
            "[1, 2, 4, 5]\n"
          ]
        }
      ]
    },
    {
      "cell_type": "code",
      "source": [
        "#9.Write a code to acess the second element in the list ['a','b','c','d']\n",
        "#ans:-# create the list\n",
        "letters = ['a','b','c','d']\n",
        "\n",
        "# acess the second element (index 1)\n",
        "second_element = letters[1]\n",
        "\n",
        "# print the result\n",
        "print(second_element)"
      ],
      "metadata": {
        "colab": {
          "base_uri": "https://localhost:8080/"
        },
        "id": "3Q75CDfNGs-t",
        "outputId": "6969180b-dacc-4e68-801f-6aabd52a0e2e"
      },
      "execution_count": null,
      "outputs": [
        {
          "output_type": "stream",
          "name": "stdout",
          "text": [
            "b\n"
          ]
        }
      ]
    },
    {
      "cell_type": "code",
      "source": [
        "#10.Write a code to reverse the list [10,20,30,40,50]\n",
        "#ans:-# create the list\n",
        "numbers = [10,20,30,40,50]\n",
        "\n",
        "# reverse the list\n",
        "numbers.reverse()\n",
        "\n",
        "# print the reversed list\n",
        "print(numbers)"
      ],
      "metadata": {
        "colab": {
          "base_uri": "https://localhost:8080/"
        },
        "id": "67WL9kWxHafI",
        "outputId": "c6e0436c-4bab-46f9-85aa-bcfdadc91684"
      },
      "execution_count": null,
      "outputs": [
        {
          "output_type": "stream",
          "name": "stdout",
          "text": [
            "[50, 40, 30, 20, 10]\n"
          ]
        }
      ]
    },
    {
      "cell_type": "code",
      "source": [
        "#11.Write a code to create a tuple with the elements 100,200,300 and print it.\n",
        "#ans:-# create the tuple\n",
        "numbers = (100,200,300)\n",
        "\n",
        "# print the tuple\n",
        "print(numbers)"
      ],
      "metadata": {
        "colab": {
          "base_uri": "https://localhost:8080/"
        },
        "id": "U6TihcPZH20Q",
        "outputId": "1b95e1af-6ca0-4e2a-e326-547b6f82f73a"
      },
      "execution_count": null,
      "outputs": [
        {
          "output_type": "stream",
          "name": "stdout",
          "text": [
            "(100, 200, 300)\n"
          ]
        }
      ]
    },
    {
      "cell_type": "code",
      "source": [
        "#12.Write a code to acess the second-to-last element of the tuple ('red','green','blue','yellow').\n",
        "#ans:-# create the tuple\n",
        "colors = ('red','green','blue','yellow')\n",
        "\n",
        "# acess the second-to-last element (index -2)\n",
        "second_last = colors[-2]\n",
        "\n",
        "# print  the result\n",
        "print(second_last)"
      ],
      "metadata": {
        "colab": {
          "base_uri": "https://localhost:8080/"
        },
        "id": "O2MAxrtrISv6",
        "outputId": "5259462e-271a-4101-9524-127aa525257c"
      },
      "execution_count": null,
      "outputs": [
        {
          "output_type": "stream",
          "name": "stdout",
          "text": [
            "blue\n"
          ]
        }
      ]
    },
    {
      "cell_type": "code",
      "source": [
        "# 13.Write a code to find theminimun number in the tuple (10,20,5,15).\n",
        "#ans:-# create the tuple\n",
        "numbers = (10,20,5,15)\n",
        "\n",
        "# find the minimun value\n",
        "minimum_value = min(numbers)\n",
        "\n",
        "# print the result\n",
        "print(minimum_value)"
      ],
      "metadata": {
        "colab": {
          "base_uri": "https://localhost:8080/"
        },
        "id": "3qVBYkBwJF4K",
        "outputId": "d552a978-9f50-4bf1-94c6-9188c038c344"
      },
      "execution_count": null,
      "outputs": [
        {
          "output_type": "stream",
          "name": "stdout",
          "text": [
            "5\n"
          ]
        }
      ]
    },
    {
      "cell_type": "code",
      "source": [
        "#14.Write a code to find the index of the element \"cat\" in the tuple ('dog','cat','rabbit').\n",
        "#ans:-# create the tuple\n",
        "animals = ('dog','cat','rabbit')\n",
        "\n",
        "# find the index of \"cat\"\n",
        "cat_index = animals.index(\"cat\")\n",
        "\n",
        "# print the result\n",
        "print(cat_index)"
      ],
      "metadata": {
        "colab": {
          "base_uri": "https://localhost:8080/"
        },
        "id": "bIg4Z-KaJqra",
        "outputId": "53e82651-cebf-487c-9199-b71a4b68cb3a"
      },
      "execution_count": null,
      "outputs": [
        {
          "output_type": "stream",
          "name": "stdout",
          "text": [
            "1\n"
          ]
        }
      ]
    },
    {
      "cell_type": "code",
      "source": [
        "#15.Write a code to create tuple containning three different fruits and check if \"kiwi\" is in it.\n",
        "#ans:-# create the tuple\n",
        "fruits = (\"apple\",\"banana\",\"mango\")\n",
        "\n",
        "# check if \"kiwi\" is in the tuple\n",
        "if \"kiwi\" in fruits:\n",
        "  print(\"kiwi is in the tuple.\")\n",
        "else:\n",
        "    print(\"kiwi is not in the tuple.\")"
      ],
      "metadata": {
        "id": "ia91SbxqKZIi",
        "colab": {
          "base_uri": "https://localhost:8080/"
        },
        "outputId": "4eed1572-6bb2-4afd-d7ff-23b5a77f4c57"
      },
      "execution_count": null,
      "outputs": [
        {
          "output_type": "stream",
          "name": "stdout",
          "text": [
            "kiwi is not in the tuple.\n"
          ]
        }
      ]
    },
    {
      "cell_type": "code",
      "source": [
        "#16. Write a code to create a set with the element 'a','b','c' and print it.\n",
        "#ans:-# create the set\n",
        "letters = {'a','b','c'}\n",
        "\n",
        "# print the set\n",
        "print(letters)"
      ],
      "metadata": {
        "colab": {
          "base_uri": "https://localhost:8080/"
        },
        "id": "jnNpISBqOEwc",
        "outputId": "6c9b1733-cae4-4a9e-c0cf-18b121858cfa"
      },
      "execution_count": null,
      "outputs": [
        {
          "output_type": "stream",
          "name": "stdout",
          "text": [
            "{'a', 'c', 'b'}\n"
          ]
        }
      ]
    },
    {
      "cell_type": "code",
      "source": [
        "#17. Write  a code to clear all element from the set {1,2,3,4,5}.\n",
        "#ans:-# create the set\n",
        "numbers = {1,2,3,4,5}\n",
        "\n",
        "# clear all elements\n",
        "numbers.clear()\n",
        "\n",
        "# print the set\n",
        "print(numbers)"
      ],
      "metadata": {
        "colab": {
          "base_uri": "https://localhost:8080/"
        },
        "id": "jK0UFM63OshJ",
        "outputId": "d86d5808-d960-475e-9adf-01c31e88c552"
      },
      "execution_count": null,
      "outputs": [
        {
          "output_type": "stream",
          "name": "stdout",
          "text": [
            "set()\n"
          ]
        }
      ]
    },
    {
      "cell_type": "code",
      "source": [
        "#18. Write a code to remove the element 4 from the set {1,2,3,4}.\n",
        "#ans:-# create the set\n",
        "numbers = {1,2,3,4}\n",
        "\n",
        "# remove the element 4\n",
        "numbers.remove(4)\n",
        "\n",
        "# print the updated set\n",
        "print(numbers)"
      ],
      "metadata": {
        "colab": {
          "base_uri": "https://localhost:8080/"
        },
        "id": "afakOH9vPSOv",
        "outputId": "61906b5f-24bf-4714-c0c5-22d9a9153a4c"
      },
      "execution_count": null,
      "outputs": [
        {
          "output_type": "stream",
          "name": "stdout",
          "text": [
            "{1, 2, 3}\n"
          ]
        }
      ]
    },
    {
      "cell_type": "code",
      "source": [
        "#19.Write a code to find a union of two sets {1,2,3} and {3,4,5}.\n",
        "#ans:-# create the set\n",
        "set1 = {1,2,3}\n",
        "set2 = {3,4,5}\n",
        "\n",
        "# find the union\n",
        "union_set = set1.union(set2)\n",
        "\n",
        "# print the result\n",
        "print(union_set)"
      ],
      "metadata": {
        "colab": {
          "base_uri": "https://localhost:8080/"
        },
        "id": "kF1OWmyWPxIy",
        "outputId": "00f464b4-ebfe-438e-d963-8ad5f9c9d3b8"
      },
      "execution_count": null,
      "outputs": [
        {
          "output_type": "stream",
          "name": "stdout",
          "text": [
            "{1, 2, 3, 4, 5}\n"
          ]
        }
      ]
    },
    {
      "cell_type": "code",
      "source": [
        "#20. Write a code to find the intersection of two sets {1,2,3} and {2,3,4}.\n",
        "#ans:-# create the sets\n",
        "set1 = {1,2,3}\n",
        "set2 = {2,3,4}\n",
        "\n",
        "# find the inetrsection\n",
        "inetersection_sets = set1.intersection(set2)\n",
        "\n",
        "# print the result\n",
        "print(inetersection_sets)"
      ],
      "metadata": {
        "colab": {
          "base_uri": "https://localhost:8080/"
        },
        "id": "7ezrXnYKQaLf",
        "outputId": "f4bb9fda-e1ab-4012-da75-063e5ec5d600"
      },
      "execution_count": null,
      "outputs": [
        {
          "output_type": "stream",
          "name": "stdout",
          "text": [
            "{2, 3}\n"
          ]
        }
      ]
    },
    {
      "cell_type": "code",
      "source": [
        "#21. Wrte a code to create a dictionary with the keys \"name\",\"age\", and \"city\", and print it.\n",
        "#ans:-# create the dictionary\n",
        "person = {\n",
        "    \"name\": \"Vibhu\",\n",
        "    \"age\": 20,\n",
        "     \"city\": \"Delhi\"\n",
        "}\n",
        "\n",
        "# print the dictionary\n",
        "print(person)"
      ],
      "metadata": {
        "colab": {
          "base_uri": "https://localhost:8080/"
        },
        "id": "H8-uqH_0RPby",
        "outputId": "7f38b011-7545-434f-dfd3-45144f485553"
      },
      "execution_count": null,
      "outputs": [
        {
          "output_type": "stream",
          "name": "stdout",
          "text": [
            "{'name': 'Vibhu', 'age': 20, 'city': 'Delhi'}\n"
          ]
        }
      ]
    },
    {
      "cell_type": "code",
      "source": [
        "#22. Write a code to add a new key-value pair \"country\": \"USA\" to the dictionary {'name': 'john','age': 25}.\n",
        "#ans:-# create the dictionary\n",
        "person = {'name': 'john', 'age': 25}\n",
        "\n",
        "# add new key-value pair\n",
        "person['country'] = 'USA'\n",
        "\n",
        "# print the updated dictionary\n",
        "print(person)"
      ],
      "metadata": {
        "colab": {
          "base_uri": "https://localhost:8080/"
        },
        "id": "m9SRbaXgSw62",
        "outputId": "61be373d-8d12-423c-c0be-a633364f80d7"
      },
      "execution_count": null,
      "outputs": [
        {
          "output_type": "stream",
          "name": "stdout",
          "text": [
            "{'name': 'john', 'age': 25, 'country': 'USA'}\n"
          ]
        }
      ]
    },
    {
      "cell_type": "code",
      "source": [
        "#23. Write a code to acess the value associated with the key \"name\" in the dictionary{'name':'Alice', 'age': 30}.\n",
        "#ans:-# create the dictionary\n",
        "person = {'name': 'Alice', 'age': 30}\n",
        "\n",
        "# acess the value for key \"name\"\n",
        "name_value = person['name']\n",
        "\n",
        "# print the result\n",
        "print(name_value)"
      ],
      "metadata": {
        "colab": {
          "base_uri": "https://localhost:8080/"
        },
        "id": "_y0tqJMkTpeF",
        "outputId": "27a07eea-f986-4686-f589-6b95a6ee480f"
      },
      "execution_count": null,
      "outputs": [
        {
          "output_type": "stream",
          "name": "stdout",
          "text": [
            "Alice\n"
          ]
        }
      ]
    },
    {
      "cell_type": "code",
      "source": [
        "#24. Write a code to remove the key \"age\" from the dictionary {'name': 'Bob', 'age': 22, 'city': 'new york'}.\n",
        "# ans:-# create the dictionary\n",
        "person = {'name': 'Bob', 'age': 22, 'city': 'new york'}\n",
        "\n",
        "# remove the key \"age\"\n",
        "del person['age']\n",
        "\n",
        "# print the updated dictionary\n",
        "print(person)"
      ],
      "metadata": {
        "colab": {
          "base_uri": "https://localhost:8080/"
        },
        "id": "S7UIgvxYUgCC",
        "outputId": "9dc709a8-1cca-428d-cdbf-2581e9f62d16"
      },
      "execution_count": null,
      "outputs": [
        {
          "output_type": "stream",
          "name": "stdout",
          "text": [
            "{'name': 'Bob', 'city': 'new york'}\n"
          ]
        }
      ]
    },
    {
      "cell_type": "code",
      "source": [
        "# 25.Wite a code to check if the key \"city\" exist in the dictionary {'name': 'Alice', 'city': 'paris'}.\n",
        "#ans:-# create the dictionary\n",
        "person = {'name': 'Alice', 'city': 'paris'}\n",
        "\n",
        "# check if \"city\" exists\n",
        "if 'city' in person:\n",
        "    print(\"key 'city' exists in the dictionary.\")\n",
        "else:\n",
        "   print(\"key 'city' does not exists in the dictionary.\")\n"
      ],
      "metadata": {
        "colab": {
          "base_uri": "https://localhost:8080/"
        },
        "id": "TiCnz_5UVfzT",
        "outputId": "588b4350-f150-47df-87c4-03b2acded839"
      },
      "execution_count": null,
      "outputs": [
        {
          "output_type": "stream",
          "name": "stdout",
          "text": [
            "key 'city' exists in the dictionary.\n"
          ]
        }
      ]
    },
    {
      "cell_type": "code",
      "source": [
        "# 26. Write a code to create a list,a tuple,and a dictionary, and print them all.\n",
        "#ans:-# create a list\n",
        "my_list = [1,2,3,4,5]\n",
        "\n",
        "# create a tuple\n",
        "my_tuple = ('apple','banana', 'cherry')\n",
        "\n",
        "# create a dictionary\n",
        "my_dict = {\n",
        "    'name': 'vibhu' ,\n",
        "    'age' : 20,\n",
        "    'city': 'delhi'\n",
        "}\n",
        "\n",
        "# print all\n",
        "print(\"list:\", my_list)\n",
        "print(\"Tuple:\", my_tuple)\n",
        "print(\"dictionary:\", my_dict)"
      ],
      "metadata": {
        "colab": {
          "base_uri": "https://localhost:8080/"
        },
        "id": "vBwVun9xWxEd",
        "outputId": "2236339b-4683-42ed-bfae-7e7c3b37ed26"
      },
      "execution_count": null,
      "outputs": [
        {
          "output_type": "stream",
          "name": "stdout",
          "text": [
            "list: [1, 2, 3, 4, 5]\n",
            "Tuple: ('apple', 'banana', 'cherry')\n",
            "dictionary: {'name': 'vibhu', 'age': 20, 'city': 'delhi'}\n"
          ]
        }
      ]
    },
    {
      "cell_type": "code",
      "source": [
        "# 27. Write a code tocreate a list of 5random numbers between 1 and 100 , sort it in ascending order ,and print the #result.(replaced)\n",
        "#ans:-\n",
        "import random\n",
        "\n",
        "# create a list of 5 random numbers between 1 and 100\n",
        "numbers = [random.randint(1,100) for _ in range(5)]\n",
        "\n",
        "# sort the list in ascending order\n",
        "numbers.sort()\n",
        "\n",
        "# print the sorted list\n",
        "print(numbers)"
      ],
      "metadata": {
        "colab": {
          "base_uri": "https://localhost:8080/"
        },
        "id": "YBQKZTrpYOKg",
        "outputId": "ba9a3310-d07d-4100-b03c-692965598ef2"
      },
      "execution_count": null,
      "outputs": [
        {
          "output_type": "stream",
          "name": "stdout",
          "text": [
            "[4, 23, 35, 53, 95]\n"
          ]
        }
      ]
    },
    {
      "cell_type": "code",
      "source": [
        "#28. Write a code to create a list with string and print the element at the third index.\n",
        "#ans:-# create a list of string\n",
        "fruits = [\"apple\",\"banana\", \"cheery\", \"date\", \"mango\"]\n",
        "\n",
        "# print the element at the third index (indexing starts from 0)\n",
        "print(fruits[3])"
      ],
      "metadata": {
        "colab": {
          "base_uri": "https://localhost:8080/"
        },
        "id": "xJV44eQGZdMI",
        "outputId": "ee9a41ba-72ae-4d91-90c6-cb8842db7b3c"
      },
      "execution_count": null,
      "outputs": [
        {
          "output_type": "stream",
          "name": "stdout",
          "text": [
            "date\n"
          ]
        }
      ]
    },
    {
      "cell_type": "code",
      "source": [
        "#29. Write a code to combine two dictionaries into one and print the result.\n",
        "#ans:-# create two dictionaries\n",
        "dict1 = {'name': 'vibhu' ,'age': 20}\n",
        "dict2 = {'city': 'delhi' , 'country': 'india'}\n",
        "\n",
        "# combine dictionaries (python 3.9+)\n",
        "combined_dict = dict1 | dict2\n",
        "\n",
        "# print the combined dictionary\n",
        "print(combined_dict)"
      ],
      "metadata": {
        "colab": {
          "base_uri": "https://localhost:8080/"
        },
        "id": "87D0c98laK1X",
        "outputId": "0cd7dce8-cea7-4ce9-8051-0167869e0b8b"
      },
      "execution_count": null,
      "outputs": [
        {
          "output_type": "stream",
          "name": "stdout",
          "text": [
            "{'name': 'vibhu', 'age': 20, 'city': 'delhi', 'country': 'india'}\n"
          ]
        }
      ]
    },
    {
      "cell_type": "code",
      "source": [
        "#30. Write a code to convert a list of string into set.\n",
        "#ans:-# create a list of string\n",
        "fruits_lists = [\"apple\", \"banana\", \"apple\", \"cherry\",\"banana\"]\n",
        "\n",
        "# convert a list to a set to remove duplicates\n",
        "fruits_set = set(fruits_lists)\n",
        "\n",
        "# print the set\n",
        "print(fruits_set)"
      ],
      "metadata": {
        "colab": {
          "base_uri": "https://localhost:8080/"
        },
        "id": "qvfLEmDMbgMU",
        "outputId": "02a222cb-69e3-4092-aa5d-bf66ec58b4e4"
      },
      "execution_count": null,
      "outputs": [
        {
          "output_type": "stream",
          "name": "stdout",
          "text": [
            "{'banana', 'cherry', 'apple'}\n"
          ]
        }
      ]
    }
  ]
}